{
 "cells": [
  {
   "cell_type": "markdown",
   "id": "91c3a8e7",
   "metadata": {},
   "source": [
    "### **Trabajo Práctico 1. Aplicaciones Computacionales en Negocios**"
   ]
  },
  {
   "cell_type": "markdown",
   "id": "d436cc0f",
   "metadata": {},
   "source": [
    "#### Investigación previa"
   ]
  },
  {
   "cell_type": "markdown",
   "id": "bd266e16",
   "metadata": {},
   "source": [
    "**COMPLETAR**"
   ]
  },
  {
   "cell_type": "code",
   "execution_count": 1,
   "id": "b57a0437",
   "metadata": {},
   "outputs": [],
   "source": [
    "from experimentos import correr_experimentos\n",
    "from analisis import (MetricasSimulacion, IC_globales, print_resumen)\n",
    "from graficos import (\n",
    "    plot_desvios_y_congestion,\n",
    "    animar_con_estelas,\n",
    "    plot_comparacion_tiempos)\n",
    "from simulacion import run_simulacion, simular_con_historia\n",
    "import numpy as np"
   ]
  },
  {
   "cell_type": "markdown",
   "id": "9f4824d7",
   "metadata": {},
   "source": [
    "#### **Simulación de Montecarlo**"
   ]
  },
  {
   "cell_type": "code",
   "execution_count": null,
   "id": "7e485742",
   "metadata": {},
   "outputs": [],
   "source": [
    "# --------------------------------------------------------\n",
    "# PARTE 1: SIMULACIÓN DE MONTE CARLO CON VISUALIZACIÓN\n",
    "# --------------------------------------------------------\n",
    "\n",
    "print(\"=== EJERCICIO 1: Simulación Monte Carlo ===\")\n",
    "print(\"Ejecutando simulación detallada con lambda = 0.1...\")\n",
    "\n",
    "datos_mc = simular_con_historia(\n",
    "    lambda_por_min = 0.1, \n",
    "    minutos = 200, \n",
    "    seed = 42, \n",
    "    dia_ventoso = False, \n",
    "    metricas = MetricasSimulacion()\n",
    ")\n",
    "\n",
    "print(f\"Aviones finales registrados: {len(datos_mc['historia'])}\")\n",
    "print(\"Generando visualizaciones...\")\n",
    "\n",
    "animar_con_estelas(datos_mc[\"historia\"], minutos=200, tail=20)\n",
    "\n",
    "print(\"=== FIN EJERCICIO 1 ===\\n\")"
   ]
  },
  {
   "cell_type": "markdown",
   "id": "f843e257",
   "metadata": {},
   "source": [
    "#### **Promedio de arribos**"
   ]
  },
  {
   "cell_type": "markdown",
   "id": "12273154",
   "metadata": {},
   "source": [
    "El modelo genera, en cada minuto, un avión con probabilidad λ. Para que el promedio de arrivos sea de un avión por hora debemos hacer:\n",
    "$$ λ = \\frac{1 \\text{ avión/hora}}{60 \\text{ min/hora}} = \\frac{1}{60} \\text{aviones/min} $$"
   ]
  },
  {
   "cell_type": "markdown",
   "id": "16556b85",
   "metadata": {},
   "source": [
    "#### **5 aviones en una hora**"
   ]
  },
  {
   "cell_type": "markdown",
   "id": "bdfd7104",
   "metadata": {},
   "source": [
    "Para calcular la probabilidad de que 5 aviones lleguen en una hora con λ = 1/60 de manera analítica podemos usar la fórmula binomial. Tenemos 60 minutos y queremos la probabilidad de 5 éxitos \n",
    "$$P(N = 5) = \\binom{60}{5} \\cdot \\left(\\frac{1}{60}\\right)^5 \\cdot \\left(1 - \\frac{1}{60}\\right)^{55} ∼ 0.002786 $$"
   ]
  },
  {
   "cell_type": "code",
   "execution_count": null,
   "id": "99c17dfa",
   "metadata": {},
   "outputs": [],
   "source": [
    "# --------------------------------------------------------\n",
    "# PARTE 3: PROBABILIDAD DE 5 AVIONES EN 1 HORA\n",
    "# --------------------------------------------------------\n",
    "def estimar_prob_5(n_sim = 200_000, seed = 42):\n",
    "    np.random.seed(seed)\n",
    "    cuenta_5 = 0\n",
    "    \n",
    "    for i in range(n_sim):\n",
    "        # CORRE UNA SIMULACIÓN DE 60 MINUTOS CON λ = 1/60\n",
    "        aviones = run_simulacion(lambda_por_min = 1/60, minutos = 60, seed = seed + i)\n",
    "        # CUENTA SI HUBO EXACTAMENTE 5 AVIONES EN ESE PERIODO\n",
    "        if len(aviones) == 5:\n",
    "            cuenta_5 += 1\n",
    "    \n",
    "    # ESTIMACIÓN MONTE CARLO DE P(N=5)\n",
    "    p_hat = cuenta_5 / n_sim\n",
    "    # ERROR ESTÁNDAR DE LA PROPORCIÓN\n",
    "    se = np.sqrt(p_hat * (1 - p_hat) / n_sim)\n",
    "    # INTERVALO DE CONFIANZA 95%\n",
    "    ic = (p_hat - 1.96 * se, p_hat + 1.96 * se)\n",
    "    return p_hat, se, ic\n",
    "\n",
    "\n",
    "print(\"=== EJERCICIO 3: Probabilidad de 5 aviones en una hora ===\")\n",
    "p_hat, se, ic = estimar_prob_5(n_sim = 200_000, seed = 42)\n",
    "print(f\"p(5 en 1h) ≈ {p_hat:.5f}  |  SE={se:.5f}  |  IC95%=({ic[0]:.5f}, {ic[1]:.5f})\")\n",
    "print(\"=== FIN EJERCICIO 3 ===\\n\")"
   ]
  },
  {
   "cell_type": "markdown",
   "id": "d0f5f321",
   "metadata": {},
   "source": [
    "#### **Sistemas de Arribos con distintos λ**"
   ]
  },
  {
   "cell_type": "code",
   "execution_count": 2,
   "id": "dc530477",
   "metadata": {},
   "outputs": [],
   "source": [
    "lambdas = [0.02, 0.1, 0.2, 0.5, 1]\n",
    "metricas_lambdas = {lam: MetricasSimulacion() for lam in lambdas}"
   ]
  },
  {
   "cell_type": "code",
   "execution_count": null,
   "id": "dcfcdad8",
   "metadata": {},
   "outputs": [],
   "source": [
    "# --------------------------------------------------------\n",
    "# PARTE 4: SIMULACIÓN CON DISTINTOS λ (SIN DÍA VENTOSO)\n",
    "# --------------------------------------------------------\n",
    "\n",
    "print(\"=== EJERCICIO 4: Congestión y atrasos con distintos lambdas ===\")\n",
    "\n",
    "# HAY QUE CAMBIAR N_REP A 2000, PERO PARA PROBAR TARDA MUCHO\n",
    "df = correr_experimentos(lambdas, n_rep = 150, metricas_lambda = metricas_lambdas, seed = 2025)\n",
    "print_resumen(metricas_lambdas)\n"
   ]
  },
  {
   "cell_type": "markdown",
   "id": "ea61e197",
   "metadata": {},
   "source": [
    "##### *Análisis de aviones de aterrizaron - su congestión promedio, atraso, error y frecuencia*"
   ]
  },
  {
   "cell_type": "code",
   "execution_count": null,
   "id": "69c5cc72",
   "metadata": {},
   "outputs": [],
   "source": [
    "\n",
    "#GRÁFICOS DE CONGESTIÓN DE SOLO ATERRIZADOS Y CANTIDAD DE AVIONES A MONTEVIDEO POR LAMBDA\n",
    "plot_desvios_y_congestion(metricas_lambdas,df)\n",
    "print(IC_globales(df))\n"
   ]
  },
  {
   "cell_type": "code",
   "execution_count": null,
   "id": "c6eb79a6",
   "metadata": {},
   "outputs": [],
   "source": [
    "from analisis import print_resumen_congestion\n",
    "from graficos import plot_congestion_por_lambda\n",
    "\n",
    "#GRÁFICOS DE FRECUENCIA DE LOS AVIONES Y POR TRAMO\n",
    "print_resumen_congestion(df)\n",
    "plot_congestion_por_lambda(df)\n"
   ]
  },
  {
   "cell_type": "markdown",
   "id": "9be6f741",
   "metadata": {},
   "source": [
    "##### *Análisis de aviones desviados a Montevideo - su congestión promedio, error y frecuencia*"
   ]
  },
  {
   "cell_type": "code",
   "execution_count": null,
   "id": "aea73a73",
   "metadata": {},
   "outputs": [],
   "source": [
    "#GRÁFICOS DE CONGESTIÓN DE SOLO LOS QUE VAN A MONTEVIDEO, FRECUENCIA Y PROMEDIO POR TRAMO\n",
    "from graficos import plot_congestion_montevideo\n",
    "plot_congestion_montevideo(df)"
   ]
  },
  {
   "cell_type": "code",
   "execution_count": null,
   "id": "8ad03a08",
   "metadata": {},
   "outputs": [],
   "source": [
    "\n",
    "#ATRASO CON Y SIN CONGESTIÓN\n",
    "plot_comparacion_tiempos(df)\n",
    "\n",
    "print(\"=== FIN EJERCICIO 4 ===\\n\") \n"
   ]
  },
  {
   "cell_type": "markdown",
   "id": "68d2836c",
   "metadata": {},
   "source": [
    "#### **Simulaciones con Viento**"
   ]
  },
  {
   "cell_type": "code",
   "execution_count": 3,
   "id": "afe906b6",
   "metadata": {},
   "outputs": [
    {
     "name": "stdout",
     "output_type": "stream",
     "text": [
      "=== EJERCICIO 5: Atrasos y desvíos con distintos λ CON día ventoso ===\n",
      "{'aterrizajes': 3223, 'aviones': 3303, 'en_vuelo': 80, 'reinserciones': 451, 'desvios_montevideo': 0, 'desvios_viento': 393, 'desvios_tormenta': 0}\n",
      "{'aterrizajes': 15160, 'aviones': 16279, 'en_vuelo': 474, 'reinserciones': 16127, 'desvios_montevideo': 645, 'desvios_viento': 1688, 'desvios_tormenta': 0}\n",
      "{'aterrizajes': 17558, 'aviones': 32587, 'en_vuelo': 1085, 'reinserciones': 55112, 'desvios_montevideo': 13944, 'desvios_viento': 1942, 'desvios_tormenta': 0}\n",
      "{'aterrizajes': 17197, 'aviones': 81052, 'en_vuelo': 1376, 'reinserciones': 79951, 'desvios_montevideo': 62479, 'desvios_viento': 1937, 'desvios_tormenta': 0}\n",
      "{'aterrizajes': 15910, 'aviones': 162000, 'en_vuelo': 1387, 'reinserciones': 36000, 'desvios_montevideo': 144703, 'desvios_viento': 1790, 'desvios_tormenta': 0}\n"
     ]
    }
   ],
   "source": [
    "# --------------------------------------------------------\n",
    "# PARTE 5: SIMULACIÓN CON DISTINTOS λ (CON DÍA VENTOSO)\n",
    "# --------------------------------------------------------\n",
    "\n",
    "print(\"=== EJERCICIO 5: Atrasos y desvíos con distintos λ CON día ventoso ===\")\n",
    "\n",
    "metricas_lambdas_ventoso = {lam: MetricasSimulacion() for lam in lambdas}\n",
    "\n",
    "# HAY QUE CAMBIAR N_REP A 2000, PERO PARA PROBAR TARDA MUCHO\n",
    "df_ventoso = correr_experimentos(lambdas, n_rep = 150, dia_ventoso = True, metricas_lambda = metricas_lambdas_ventoso, seed = 2025)\n",
    "\n",
    "for m in metricas_lambdas_ventoso:\n",
    "    print(metricas_lambdas_ventoso[m].resumen())\n"
   ]
  },
  {
   "cell_type": "code",
   "execution_count": 5,
   "id": "284de70c",
   "metadata": {},
   "outputs": [
    {
     "name": "stdout",
     "output_type": "stream",
     "text": [
      "📊 Preparando animación con 24 aviones...\n",
      "✅ 24 aviones con datos válidos\n",
      "🎬 Creando animación...\n"
     ]
    },
    {
     "data": {
      "image/png": "[encoded data removed]",
      "text/plain": [
       "<Figure size 1400x800 with 1 Axes>"
      ]
     },
     "metadata": {},
     "output_type": "display_data"
    },
    {
     "name": "stdout",
     "output_type": "stream",
     "text": [
      "✅ Animación creada exitosamente\n"
     ]
    },
    {
     "ename": "KeyboardInterrupt",
     "evalue": "",
     "output_type": "error",
     "traceback": [
      "\u001b[31m---------------------------------------------------------------------------\u001b[39m",
      "\u001b[31mAttributeError\u001b[39m                            Traceback (most recent call last)",
      "\u001b[36mFile \u001b[39m\u001b[32mc:\\Users\\45863640\\.conda\\envs\\songskip\\Lib\\site-packages\\PIL\\ImageFile.py:644\u001b[39m, in \u001b[36m_save\u001b[39m\u001b[34m(im, fp, tile, bufsize)\u001b[39m\n\u001b[32m    643\u001b[39m \u001b[38;5;28;01mtry\u001b[39;00m:\n\u001b[32m--> \u001b[39m\u001b[32m644\u001b[39m     fh = \u001b[43mfp\u001b[49m\u001b[43m.\u001b[49m\u001b[43mfileno\u001b[49m()\n\u001b[32m    645\u001b[39m     fp.flush()\n",
      "\u001b[31mAttributeError\u001b[39m: '_idat' object has no attribute 'fileno'",
      "\nDuring handling of the above exception, another exception occurred:\n",
      "\u001b[31mKeyboardInterrupt\u001b[39m                         Traceback (most recent call last)",
      "\u001b[36mCell\u001b[39m\u001b[36m \u001b[39m\u001b[32mIn[5]\u001b[39m\u001b[32m, line 9\u001b[39m\n\u001b[32m      6\u001b[39m historia = df_ventoso[\u001b[33m\"\u001b[39m\u001b[33mhistoria\u001b[39m\u001b[33m\"\u001b[39m].iloc[\u001b[32m0\u001b[39m]\n\u001b[32m      8\u001b[39m anim =  animar_con_desvios(historia, minutos=\u001b[32m1080\u001b[39m,tail = \u001b[32m30\u001b[39m)\n\u001b[32m----> \u001b[39m\u001b[32m9\u001b[39m HTML(\u001b[43manim\u001b[49m\u001b[43m.\u001b[49m\u001b[43mto_jshtml\u001b[49m\u001b[43m(\u001b[49m\u001b[43m)\u001b[49m)\n\u001b[32m     10\u001b[39m \u001b[38;5;66;03m# Crear todos los gráficos de análisis\u001b[39;00m\n\u001b[32m     11\u001b[39m \u001b[38;5;66;03m#plot_analisis_completo(df, df_ventoso)\u001b[39;00m\n\u001b[32m     12\u001b[39m \n\u001b[32m   (...)\u001b[39m\u001b[32m     15\u001b[39m \n\u001b[32m     16\u001b[39m \u001b[38;5;66;03m#anim = animar_con_desvios(df_ventoso[\"historia\"], minutos=200, tail=20)\u001b[39;00m\n\u001b[32m     18\u001b[39m \u001b[38;5;28mprint\u001b[39m(\u001b[33m\"\u001b[39m\u001b[33m=== FIN EJERCICIO 5 ===\u001b[39m\u001b[38;5;130;01m\\n\u001b[39;00m\u001b[33m\"\u001b[39m)\n",
      "\u001b[36mFile \u001b[39m\u001b[32mc:\\Users\\45863640\\.conda\\envs\\songskip\\Lib\\site-packages\\matplotlib\\animation.py:1376\u001b[39m, in \u001b[36mAnimation.to_jshtml\u001b[39m\u001b[34m(self, fps, embed_frames, default_mode)\u001b[39m\n\u001b[32m   1372\u001b[39m         path = Path(tmpdir, \u001b[33m\"\u001b[39m\u001b[33mtemp.html\u001b[39m\u001b[33m\"\u001b[39m)\n\u001b[32m   1373\u001b[39m         writer = HTMLWriter(fps=fps,\n\u001b[32m   1374\u001b[39m                             embed_frames=embed_frames,\n\u001b[32m   1375\u001b[39m                             default_mode=default_mode)\n\u001b[32m-> \u001b[39m\u001b[32m1376\u001b[39m         \u001b[38;5;28;43mself\u001b[39;49m\u001b[43m.\u001b[49m\u001b[43msave\u001b[49m\u001b[43m(\u001b[49m\u001b[38;5;28;43mstr\u001b[39;49m\u001b[43m(\u001b[49m\u001b[43mpath\u001b[49m\u001b[43m)\u001b[49m\u001b[43m,\u001b[49m\u001b[43m \u001b[49m\u001b[43mwriter\u001b[49m\u001b[43m=\u001b[49m\u001b[43mwriter\u001b[49m\u001b[43m)\u001b[49m\n\u001b[32m   1377\u001b[39m         \u001b[38;5;28mself\u001b[39m._html_representation = path.read_text()\n\u001b[32m   1379\u001b[39m \u001b[38;5;28;01mreturn\u001b[39;00m \u001b[38;5;28mself\u001b[39m._html_representation\n",
      "\u001b[36mFile \u001b[39m\u001b[32mc:\\Users\\45863640\\.conda\\envs\\songskip\\Lib\\site-packages\\matplotlib\\animation.py:1126\u001b[39m, in \u001b[36mAnimation.save\u001b[39m\u001b[34m(self, filename, writer, fps, dpi, codec, bitrate, extra_args, metadata, extra_anim, savefig_kwargs, progress_callback)\u001b[39m\n\u001b[32m   1124\u001b[39m         progress_callback(frame_number, total_frames)\n\u001b[32m   1125\u001b[39m         frame_number += \u001b[32m1\u001b[39m\n\u001b[32m-> \u001b[39m\u001b[32m1126\u001b[39m \u001b[43mwriter\u001b[49m\u001b[43m.\u001b[49m\u001b[43mgrab_frame\u001b[49m\u001b[43m(\u001b[49m\u001b[43m*\u001b[49m\u001b[43m*\u001b[49m\u001b[43msavefig_kwargs\u001b[49m\u001b[43m)\u001b[49m\n",
      "\u001b[36mFile \u001b[39m\u001b[32mc:\\Users\\45863640\\.conda\\envs\\songskip\\Lib\\site-packages\\matplotlib\\animation.py:791\u001b[39m, in \u001b[36mHTMLWriter.grab_frame\u001b[39m\u001b[34m(self, **savefig_kwargs)\u001b[39m\n\u001b[32m    789\u001b[39m     \u001b[38;5;28;01mreturn\u001b[39;00m\n\u001b[32m    790\u001b[39m f = BytesIO()\n\u001b[32m--> \u001b[39m\u001b[32m791\u001b[39m \u001b[38;5;28;43mself\u001b[39;49m\u001b[43m.\u001b[49m\u001b[43mfig\u001b[49m\u001b[43m.\u001b[49m\u001b[43msavefig\u001b[49m\u001b[43m(\u001b[49m\u001b[43mf\u001b[49m\u001b[43m,\u001b[49m\u001b[43m \u001b[49m\u001b[38;5;28;43mformat\u001b[39;49m\u001b[43m=\u001b[49m\u001b[38;5;28;43mself\u001b[39;49m\u001b[43m.\u001b[49m\u001b[43mframe_format\u001b[49m\u001b[43m,\u001b[49m\n\u001b[32m    792\u001b[39m \u001b[43m                 \u001b[49m\u001b[43mdpi\u001b[49m\u001b[43m=\u001b[49m\u001b[38;5;28;43mself\u001b[39;49m\u001b[43m.\u001b[49m\u001b[43mdpi\u001b[49m\u001b[43m,\u001b[49m\u001b[43m \u001b[49m\u001b[43m*\u001b[49m\u001b[43m*\u001b[49m\u001b[43msavefig_kwargs\u001b[49m\u001b[43m)\u001b[49m\n\u001b[32m    793\u001b[39m imgdata64 = base64.encodebytes(f.getvalue()).decode(\u001b[33m'\u001b[39m\u001b[33mascii\u001b[39m\u001b[33m'\u001b[39m)\n\u001b[32m    794\u001b[39m \u001b[38;5;28mself\u001b[39m._total_bytes += \u001b[38;5;28mlen\u001b[39m(imgdata64)\n",
      "\u001b[36mFile \u001b[39m\u001b[32mc:\\Users\\45863640\\.conda\\envs\\songskip\\Lib\\site-packages\\matplotlib\\figure.py:3490\u001b[39m, in \u001b[36mFigure.savefig\u001b[39m\u001b[34m(self, fname, transparent, **kwargs)\u001b[39m\n\u001b[32m   3488\u001b[39m     \u001b[38;5;28;01mfor\u001b[39;00m ax \u001b[38;5;129;01min\u001b[39;00m \u001b[38;5;28mself\u001b[39m.axes:\n\u001b[32m   3489\u001b[39m         _recursively_make_axes_transparent(stack, ax)\n\u001b[32m-> \u001b[39m\u001b[32m3490\u001b[39m \u001b[38;5;28;43mself\u001b[39;49m\u001b[43m.\u001b[49m\u001b[43mcanvas\u001b[49m\u001b[43m.\u001b[49m\u001b[43mprint_figure\u001b[49m\u001b[43m(\u001b[49m\u001b[43mfname\u001b[49m\u001b[43m,\u001b[49m\u001b[43m \u001b[49m\u001b[43m*\u001b[49m\u001b[43m*\u001b[49m\u001b[43mkwargs\u001b[49m\u001b[43m)\u001b[49m\n",
      "\u001b[36mFile \u001b[39m\u001b[32mc:\\Users\\45863640\\.conda\\envs\\songskip\\Lib\\site-packages\\matplotlib\\backend_bases.py:2186\u001b[39m, in \u001b[36mFigureCanvasBase.print_figure\u001b[39m\u001b[34m(self, filename, dpi, facecolor, edgecolor, orientation, format, bbox_inches, pad_inches, bbox_extra_artists, backend, **kwargs)\u001b[39m\n\u001b[32m   2182\u001b[39m \u001b[38;5;28;01mtry\u001b[39;00m:\n\u001b[32m   2183\u001b[39m     \u001b[38;5;66;03m# _get_renderer may change the figure dpi (as vector formats\u001b[39;00m\n\u001b[32m   2184\u001b[39m     \u001b[38;5;66;03m# force the figure dpi to 72), so we need to set it again here.\u001b[39;00m\n\u001b[32m   2185\u001b[39m     \u001b[38;5;28;01mwith\u001b[39;00m cbook._setattr_cm(\u001b[38;5;28mself\u001b[39m.figure, dpi=dpi):\n\u001b[32m-> \u001b[39m\u001b[32m2186\u001b[39m         result = \u001b[43mprint_method\u001b[49m\u001b[43m(\u001b[49m\n\u001b[32m   2187\u001b[39m \u001b[43m            \u001b[49m\u001b[43mfilename\u001b[49m\u001b[43m,\u001b[49m\n\u001b[32m   2188\u001b[39m \u001b[43m            \u001b[49m\u001b[43mfacecolor\u001b[49m\u001b[43m=\u001b[49m\u001b[43mfacecolor\u001b[49m\u001b[43m,\u001b[49m\n\u001b[32m   2189\u001b[39m \u001b[43m            \u001b[49m\u001b[43medgecolor\u001b[49m\u001b[43m=\u001b[49m\u001b[43medgecolor\u001b[49m\u001b[43m,\u001b[49m\n\u001b[32m   2190\u001b[39m \u001b[43m            \u001b[49m\u001b[43morientation\u001b[49m\u001b[43m=\u001b[49m\u001b[43morientation\u001b[49m\u001b[43m,\u001b[49m\n\u001b[32m   2191\u001b[39m \u001b[43m            \u001b[49m\u001b[43mbbox_inches_restore\u001b[49m\u001b[43m=\u001b[49m\u001b[43m_bbox_inches_restore\u001b[49m\u001b[43m,\u001b[49m\n\u001b[32m   2192\u001b[39m \u001b[43m            \u001b[49m\u001b[43m*\u001b[49m\u001b[43m*\u001b[49m\u001b[43mkwargs\u001b[49m\u001b[43m)\u001b[49m\n\u001b[32m   2193\u001b[39m \u001b[38;5;28;01mfinally\u001b[39;00m:\n\u001b[32m   2194\u001b[39m     \u001b[38;5;28;01mif\u001b[39;00m bbox_inches \u001b[38;5;129;01mand\u001b[39;00m restore_bbox:\n",
      "\u001b[36mFile \u001b[39m\u001b[32mc:\\Users\\45863640\\.conda\\envs\\songskip\\Lib\\site-packages\\matplotlib\\backend_bases.py:2042\u001b[39m, in \u001b[36mFigureCanvasBase._switch_canvas_and_return_print_method.<locals>.<lambda>\u001b[39m\u001b[34m(*args, **kwargs)\u001b[39m\n\u001b[32m   2038\u001b[39m     optional_kws = {  \u001b[38;5;66;03m# Passed by print_figure for other renderers.\u001b[39;00m\n\u001b[32m   2039\u001b[39m         \u001b[33m\"\u001b[39m\u001b[33mdpi\u001b[39m\u001b[33m\"\u001b[39m, \u001b[33m\"\u001b[39m\u001b[33mfacecolor\u001b[39m\u001b[33m\"\u001b[39m, \u001b[33m\"\u001b[39m\u001b[33medgecolor\u001b[39m\u001b[33m\"\u001b[39m, \u001b[33m\"\u001b[39m\u001b[33morientation\u001b[39m\u001b[33m\"\u001b[39m,\n\u001b[32m   2040\u001b[39m         \u001b[33m\"\u001b[39m\u001b[33mbbox_inches_restore\u001b[39m\u001b[33m\"\u001b[39m}\n\u001b[32m   2041\u001b[39m     skip = optional_kws - {*inspect.signature(meth).parameters}\n\u001b[32m-> \u001b[39m\u001b[32m2042\u001b[39m     print_method = functools.wraps(meth)(\u001b[38;5;28;01mlambda\u001b[39;00m *args, **kwargs: \u001b[43mmeth\u001b[49m\u001b[43m(\u001b[49m\n\u001b[32m   2043\u001b[39m \u001b[43m        \u001b[49m\u001b[43m*\u001b[49m\u001b[43margs\u001b[49m\u001b[43m,\u001b[49m\u001b[43m \u001b[49m\u001b[43m*\u001b[49m\u001b[43m*\u001b[49m\u001b[43m{\u001b[49m\u001b[43mk\u001b[49m\u001b[43m:\u001b[49m\u001b[43m \u001b[49m\u001b[43mv\u001b[49m\u001b[43m \u001b[49m\u001b[38;5;28;43;01mfor\u001b[39;49;00m\u001b[43m \u001b[49m\u001b[43mk\u001b[49m\u001b[43m,\u001b[49m\u001b[43m \u001b[49m\u001b[43mv\u001b[49m\u001b[43m \u001b[49m\u001b[38;5;129;43;01min\u001b[39;49;00m\u001b[43m \u001b[49m\u001b[43mkwargs\u001b[49m\u001b[43m.\u001b[49m\u001b[43mitems\u001b[49m\u001b[43m(\u001b[49m\u001b[43m)\u001b[49m\u001b[43m \u001b[49m\u001b[38;5;28;43;01mif\u001b[39;49;00m\u001b[43m \u001b[49m\u001b[43mk\u001b[49m\u001b[43m \u001b[49m\u001b[38;5;129;43;01mnot\u001b[39;49;00m\u001b[43m \u001b[49m\u001b[38;5;129;43;01min\u001b[39;49;00m\u001b[43m \u001b[49m\u001b[43mskip\u001b[49m\u001b[43m}\u001b[49m\u001b[43m)\u001b[49m)\n\u001b[32m   2044\u001b[39m \u001b[38;5;28;01melse\u001b[39;00m:  \u001b[38;5;66;03m# Let third-parties do as they see fit.\u001b[39;00m\n\u001b[32m   2045\u001b[39m     print_method = meth\n",
      "\u001b[36mFile \u001b[39m\u001b[32mc:\\Users\\45863640\\.conda\\envs\\songskip\\Lib\\site-packages\\matplotlib\\backends\\backend_agg.py:481\u001b[39m, in \u001b[36mFigureCanvasAgg.print_png\u001b[39m\u001b[34m(self, filename_or_obj, metadata, pil_kwargs)\u001b[39m\n\u001b[32m    434\u001b[39m \u001b[38;5;28;01mdef\u001b[39;00m\u001b[38;5;250m \u001b[39m\u001b[34mprint_png\u001b[39m(\u001b[38;5;28mself\u001b[39m, filename_or_obj, *, metadata=\u001b[38;5;28;01mNone\u001b[39;00m, pil_kwargs=\u001b[38;5;28;01mNone\u001b[39;00m):\n\u001b[32m    435\u001b[39m \u001b[38;5;250m    \u001b[39m\u001b[33;03m\"\"\"\u001b[39;00m\n\u001b[32m    436\u001b[39m \u001b[33;03m    Write the figure to a PNG file.\u001b[39;00m\n\u001b[32m    437\u001b[39m \n\u001b[32m   (...)\u001b[39m\u001b[32m    479\u001b[39m \u001b[33;03m        *metadata*, including the default 'Software' key.\u001b[39;00m\n\u001b[32m    480\u001b[39m \u001b[33;03m    \"\"\"\u001b[39;00m\n\u001b[32m--> \u001b[39m\u001b[32m481\u001b[39m     \u001b[38;5;28;43mself\u001b[39;49m\u001b[43m.\u001b[49m\u001b[43m_print_pil\u001b[49m\u001b[43m(\u001b[49m\u001b[43mfilename_or_obj\u001b[49m\u001b[43m,\u001b[49m\u001b[43m \u001b[49m\u001b[33;43m\"\u001b[39;49m\u001b[33;43mpng\u001b[39;49m\u001b[33;43m\"\u001b[39;49m\u001b[43m,\u001b[49m\u001b[43m \u001b[49m\u001b[43mpil_kwargs\u001b[49m\u001b[43m,\u001b[49m\u001b[43m \u001b[49m\u001b[43mmetadata\u001b[49m\u001b[43m)\u001b[49m\n",
      "\u001b[36mFile \u001b[39m\u001b[32mc:\\Users\\45863640\\.conda\\envs\\songskip\\Lib\\site-packages\\matplotlib\\backends\\backend_agg.py:430\u001b[39m, in \u001b[36mFigureCanvasAgg._print_pil\u001b[39m\u001b[34m(self, filename_or_obj, fmt, pil_kwargs, metadata)\u001b[39m\n\u001b[32m    425\u001b[39m \u001b[38;5;250m\u001b[39m\u001b[33;03m\"\"\"\u001b[39;00m\n\u001b[32m    426\u001b[39m \u001b[33;03mDraw the canvas, then save it using `.image.imsave` (to which\u001b[39;00m\n\u001b[32m    427\u001b[39m \u001b[33;03m*pil_kwargs* and *metadata* are forwarded).\u001b[39;00m\n\u001b[32m    428\u001b[39m \u001b[33;03m\"\"\"\u001b[39;00m\n\u001b[32m    429\u001b[39m FigureCanvasAgg.draw(\u001b[38;5;28mself\u001b[39m)\n\u001b[32m--> \u001b[39m\u001b[32m430\u001b[39m \u001b[43mmpl\u001b[49m\u001b[43m.\u001b[49m\u001b[43mimage\u001b[49m\u001b[43m.\u001b[49m\u001b[43mimsave\u001b[49m\u001b[43m(\u001b[49m\n\u001b[32m    431\u001b[39m \u001b[43m    \u001b[49m\u001b[43mfilename_or_obj\u001b[49m\u001b[43m,\u001b[49m\u001b[43m \u001b[49m\u001b[38;5;28;43mself\u001b[39;49m\u001b[43m.\u001b[49m\u001b[43mbuffer_rgba\u001b[49m\u001b[43m(\u001b[49m\u001b[43m)\u001b[49m\u001b[43m,\u001b[49m\u001b[43m \u001b[49m\u001b[38;5;28;43mformat\u001b[39;49m\u001b[43m=\u001b[49m\u001b[43mfmt\u001b[49m\u001b[43m,\u001b[49m\u001b[43m \u001b[49m\u001b[43morigin\u001b[49m\u001b[43m=\u001b[49m\u001b[33;43m\"\u001b[39;49m\u001b[33;43mupper\u001b[39;49m\u001b[33;43m\"\u001b[39;49m\u001b[43m,\u001b[49m\n\u001b[32m    432\u001b[39m \u001b[43m    \u001b[49m\u001b[43mdpi\u001b[49m\u001b[43m=\u001b[49m\u001b[38;5;28;43mself\u001b[39;49m\u001b[43m.\u001b[49m\u001b[43mfigure\u001b[49m\u001b[43m.\u001b[49m\u001b[43mdpi\u001b[49m\u001b[43m,\u001b[49m\u001b[43m \u001b[49m\u001b[43mmetadata\u001b[49m\u001b[43m=\u001b[49m\u001b[43mmetadata\u001b[49m\u001b[43m,\u001b[49m\u001b[43m \u001b[49m\u001b[43mpil_kwargs\u001b[49m\u001b[43m=\u001b[49m\u001b[43mpil_kwargs\u001b[49m\u001b[43m)\u001b[49m\n",
      "\u001b[36mFile \u001b[39m\u001b[32mc:\\Users\\45863640\\.conda\\envs\\songskip\\Lib\\site-packages\\matplotlib\\image.py:1657\u001b[39m, in \u001b[36mimsave\u001b[39m\u001b[34m(fname, arr, vmin, vmax, cmap, format, origin, dpi, metadata, pil_kwargs)\u001b[39m\n\u001b[32m   1655\u001b[39m pil_kwargs.setdefault(\u001b[33m\"\u001b[39m\u001b[33mformat\u001b[39m\u001b[33m\"\u001b[39m, \u001b[38;5;28mformat\u001b[39m)\n\u001b[32m   1656\u001b[39m pil_kwargs.setdefault(\u001b[33m\"\u001b[39m\u001b[33mdpi\u001b[39m\u001b[33m\"\u001b[39m, (dpi, dpi))\n\u001b[32m-> \u001b[39m\u001b[32m1657\u001b[39m \u001b[43mimage\u001b[49m\u001b[43m.\u001b[49m\u001b[43msave\u001b[49m\u001b[43m(\u001b[49m\u001b[43mfname\u001b[49m\u001b[43m,\u001b[49m\u001b[43m \u001b[49m\u001b[43m*\u001b[49m\u001b[43m*\u001b[49m\u001b[43mpil_kwargs\u001b[49m\u001b[43m)\u001b[49m\n",
      "\u001b[36mFile \u001b[39m\u001b[32mc:\\Users\\45863640\\.conda\\envs\\songskip\\Lib\\site-packages\\PIL\\Image.py:2588\u001b[39m, in \u001b[36mImage.save\u001b[39m\u001b[34m(self, fp, format, **params)\u001b[39m\n\u001b[32m   2585\u001b[39m     fp = cast(IO[\u001b[38;5;28mbytes\u001b[39m], fp)\n\u001b[32m   2587\u001b[39m \u001b[38;5;28;01mtry\u001b[39;00m:\n\u001b[32m-> \u001b[39m\u001b[32m2588\u001b[39m     \u001b[43msave_handler\u001b[49m\u001b[43m(\u001b[49m\u001b[38;5;28;43mself\u001b[39;49m\u001b[43m,\u001b[49m\u001b[43m \u001b[49m\u001b[43mfp\u001b[49m\u001b[43m,\u001b[49m\u001b[43m \u001b[49m\u001b[43mfilename\u001b[49m\u001b[43m)\u001b[49m\n\u001b[32m   2589\u001b[39m \u001b[38;5;28;01mexcept\u001b[39;00m \u001b[38;5;167;01mException\u001b[39;00m:\n\u001b[32m   2590\u001b[39m     \u001b[38;5;28;01mif\u001b[39;00m open_fp:\n",
      "\u001b[36mFile \u001b[39m\u001b[32mc:\\Users\\45863640\\.conda\\envs\\songskip\\Lib\\site-packages\\PIL\\PngImagePlugin.py:1495\u001b[39m, in \u001b[36m_save\u001b[39m\u001b[34m(im, fp, filename, chunk, save_all)\u001b[39m\n\u001b[32m   1491\u001b[39m     single_im = _write_multiple_frames(\n\u001b[32m   1492\u001b[39m         im, fp, chunk, mode, rawmode, default_image, append_images\n\u001b[32m   1493\u001b[39m     )\n\u001b[32m   1494\u001b[39m \u001b[38;5;28;01mif\u001b[39;00m single_im:\n\u001b[32m-> \u001b[39m\u001b[32m1495\u001b[39m     \u001b[43mImageFile\u001b[49m\u001b[43m.\u001b[49m\u001b[43m_save\u001b[49m\u001b[43m(\u001b[49m\n\u001b[32m   1496\u001b[39m \u001b[43m        \u001b[49m\u001b[43msingle_im\u001b[49m\u001b[43m,\u001b[49m\n\u001b[32m   1497\u001b[39m \u001b[43m        \u001b[49m\u001b[43mcast\u001b[49m\u001b[43m(\u001b[49m\u001b[43mIO\u001b[49m\u001b[43m[\u001b[49m\u001b[38;5;28;43mbytes\u001b[39;49m\u001b[43m]\u001b[49m\u001b[43m,\u001b[49m\u001b[43m \u001b[49m\u001b[43m_idat\u001b[49m\u001b[43m(\u001b[49m\u001b[43mfp\u001b[49m\u001b[43m,\u001b[49m\u001b[43m \u001b[49m\u001b[43mchunk\u001b[49m\u001b[43m)\u001b[49m\u001b[43m)\u001b[49m\u001b[43m,\u001b[49m\n\u001b[32m   1498\u001b[39m \u001b[43m        \u001b[49m\u001b[43m[\u001b[49m\u001b[43mImageFile\u001b[49m\u001b[43m.\u001b[49m\u001b[43m_Tile\u001b[49m\u001b[43m(\u001b[49m\u001b[33;43m\"\u001b[39;49m\u001b[33;43mzip\u001b[39;49m\u001b[33;43m\"\u001b[39;49m\u001b[43m,\u001b[49m\u001b[43m \u001b[49m\u001b[43m(\u001b[49m\u001b[32;43m0\u001b[39;49m\u001b[43m,\u001b[49m\u001b[43m \u001b[49m\u001b[32;43m0\u001b[39;49m\u001b[43m)\u001b[49m\u001b[43m \u001b[49m\u001b[43m+\u001b[49m\u001b[43m \u001b[49m\u001b[43msingle_im\u001b[49m\u001b[43m.\u001b[49m\u001b[43msize\u001b[49m\u001b[43m,\u001b[49m\u001b[43m \u001b[49m\u001b[32;43m0\u001b[39;49m\u001b[43m,\u001b[49m\u001b[43m \u001b[49m\u001b[43mrawmode\u001b[49m\u001b[43m)\u001b[49m\u001b[43m]\u001b[49m\u001b[43m,\u001b[49m\n\u001b[32m   1499\u001b[39m \u001b[43m    \u001b[49m\u001b[43m)\u001b[49m\n\u001b[32m   1501\u001b[39m \u001b[38;5;28;01mif\u001b[39;00m info:\n\u001b[32m   1502\u001b[39m     \u001b[38;5;28;01mfor\u001b[39;00m info_chunk \u001b[38;5;129;01min\u001b[39;00m info.chunks:\n",
      "\u001b[36mFile \u001b[39m\u001b[32mc:\\Users\\45863640\\.conda\\envs\\songskip\\Lib\\site-packages\\PIL\\ImageFile.py:648\u001b[39m, in \u001b[36m_save\u001b[39m\u001b[34m(im, fp, tile, bufsize)\u001b[39m\n\u001b[32m    646\u001b[39m     _encode_tile(im, fp, tile, bufsize, fh)\n\u001b[32m    647\u001b[39m \u001b[38;5;28;01mexcept\u001b[39;00m (\u001b[38;5;167;01mAttributeError\u001b[39;00m, io.UnsupportedOperation) \u001b[38;5;28;01mas\u001b[39;00m exc:\n\u001b[32m--> \u001b[39m\u001b[32m648\u001b[39m     \u001b[43m_encode_tile\u001b[49m\u001b[43m(\u001b[49m\u001b[43mim\u001b[49m\u001b[43m,\u001b[49m\u001b[43m \u001b[49m\u001b[43mfp\u001b[49m\u001b[43m,\u001b[49m\u001b[43m \u001b[49m\u001b[43mtile\u001b[49m\u001b[43m,\u001b[49m\u001b[43m \u001b[49m\u001b[43mbufsize\u001b[49m\u001b[43m,\u001b[49m\u001b[43m \u001b[49m\u001b[38;5;28;43;01mNone\u001b[39;49;00m\u001b[43m,\u001b[49m\u001b[43m \u001b[49m\u001b[43mexc\u001b[49m\u001b[43m)\u001b[49m\n\u001b[32m    649\u001b[39m \u001b[38;5;28;01mif\u001b[39;00m \u001b[38;5;28mhasattr\u001b[39m(fp, \u001b[33m\"\u001b[39m\u001b[33mflush\u001b[39m\u001b[33m\"\u001b[39m):\n\u001b[32m    650\u001b[39m     fp.flush()\n",
      "\u001b[36mFile \u001b[39m\u001b[32mc:\\Users\\45863640\\.conda\\envs\\songskip\\Lib\\site-packages\\PIL\\ImageFile.py:674\u001b[39m, in \u001b[36m_encode_tile\u001b[39m\u001b[34m(im, fp, tile, bufsize, fh, exc)\u001b[39m\n\u001b[32m    671\u001b[39m \u001b[38;5;28;01mif\u001b[39;00m exc:\n\u001b[32m    672\u001b[39m     \u001b[38;5;66;03m# compress to Python file-compatible object\u001b[39;00m\n\u001b[32m    673\u001b[39m     \u001b[38;5;28;01mwhile\u001b[39;00m \u001b[38;5;28;01mTrue\u001b[39;00m:\n\u001b[32m--> \u001b[39m\u001b[32m674\u001b[39m         errcode, data = \u001b[43mencoder\u001b[49m\u001b[43m.\u001b[49m\u001b[43mencode\u001b[49m\u001b[43m(\u001b[49m\u001b[43mbufsize\u001b[49m\u001b[43m)\u001b[49m[\u001b[32m1\u001b[39m:]\n\u001b[32m    675\u001b[39m         fp.write(data)\n\u001b[32m    676\u001b[39m         \u001b[38;5;28;01mif\u001b[39;00m errcode:\n",
      "\u001b[31mKeyboardInterrupt\u001b[39m: "
     ]
    }
   ],
   "source": [
    "from graficos import plot_analisis_completo, animar_con_desvios\n",
    "import matplotlib.pyplot as plt\n",
    "\n",
    "from IPython.display import HTML\n",
    "\n",
    "historia = df_ventoso[\"historia\"].iloc[0]\n",
    "\n",
    "anim =  animar_con_desvios(historia, minutos=1080,tail = 30)\n",
    "HTML(anim.to_jshtml())\n",
    "# Crear todos los gráficos de análisis\n",
    "#plot_analisis_completo(df, df_ventoso)\n",
    "\n",
    "#plot_comparacion_tiempos(df_ventoso)\n",
    "\n",
    "\n",
    "#anim = animar_con_desvios(df_ventoso[\"historia\"], minutos=200, tail=20)\n",
    "\n",
    "print(\"=== FIN EJERCICIO 5 ===\\n\")"
   ]
  },
  {
   "cell_type": "markdown",
   "id": "b029f1b0",
   "metadata": {},
   "source": [
    "#### **Simulaciones con tormenta**"
   ]
  },
  {
   "cell_type": "code",
   "execution_count": null,
   "id": "82ead6b4",
   "metadata": {},
   "outputs": [],
   "source": [
    "# --------------------------------------------------------\n",
    "# PARTE 6: SIMULACIÓN CON TORMENTA (CIERRE SORPRESIVO AEP)\n",
    "# --------------------------------------------------------\n",
    "\n",
    "print(\"=== EJERCICIO 6: Solo tormenta de 30 minutos ===\")\n",
    "\n",
    "metricas_lambdas_tormenta = {lam: MetricasSimulacion() for lam in lambdas}\n",
    "\n",
    "# HAY QUE CAMBIAR N_REP A 2000, PERO PARA PROBAR TARDA MUCHO\n",
    "df_tormenta = correr_experimentos(lambdas, n_rep = 150, metricas_lambda = metricas_lambdas_tormenta, hay_tormenta = True)\n",
    "print_resumen(metricas_lambdas_tormenta)\n",
    "\n",
    "\n",
    "plot_comparacion_tiempos(df_tormenta)\n",
    "\n",
    "print(\"=== FIN EJERCICIO 6 ===\\n\")"
   ]
  },
  {
   "cell_type": "markdown",
   "id": "68705e4a",
   "metadata": {},
   "source": [
    "#### **Posibles mejoras**"
   ]
  },
  {
   "cell_type": "markdown",
   "id": "5eb67de5",
   "metadata": {},
   "source": [
    "**COMPLETAR**"
   ]
  },
  {
   "cell_type": "markdown",
   "id": "a3ce4a29",
   "metadata": {},
   "source": [
    "#### **BONUS**"
   ]
  },
  {
   "cell_type": "markdown",
   "id": "8315e727",
   "metadata": {},
   "source": [
    "**COMPLETAR**"
   ]
  }
 ],
 "metadata": {
  "kernelspec": {
   "display_name": "songskip",
   "language": "python",
   "name": "python3"
  },
  "language_info": {
   "codemirror_mode": {
    "name": "ipython",
    "version": 3
   },
   "file_extension": ".py",
   "mimetype": "text/x-python",
   "name": "python",
   "nbconvert_exporter": "python",
   "pygments_lexer": "ipython3",
   "version": "3.11.13"
  }
 },
 "nbformat": 4,
 "nbformat_minor": 5
}
