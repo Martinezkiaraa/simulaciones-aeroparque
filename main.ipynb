{
 "cells": [
  {
   "cell_type": "markdown",
   "id": "91c3a8e7",
   "metadata": {},
   "source": [
    "### **Trabajo Práctico 1. Aplicaciones Computacionales en Negocios**"
   ]
  },
  {
   "cell_type": "markdown",
   "id": "d436cc0f",
   "metadata": {},
   "source": [
    "#### Investigación previa"
   ]
  },
  {
   "cell_type": "markdown",
   "id": "bd266e16",
   "metadata": {},
   "source": [
<<<<<<< HEAD
    "**¿Cuántos aviones aterrizan en AEP entre las 6am y la medianoche?**\n",
    "\n",
    "Partimos de la información de que en promedio arriban **350 vuelos por día** al Aeroparque Jorge Newbery (AEP).  \n",
    "\n",
    "Como un día completo tiene 24 horas, eso equivale a aproximadamente:\n",
    "\n",
    "350 / 24 ≈ 14,6 vuelos por hora\n",
    "\n",
    "Entre las 6 am y la medianoche transcurren 18 horas, por lo que estimamos:\n",
    "\n",
    "14,6 * 18 ≈ 263 vuelos\n",
    "\n",
    "*Respuesta final:* Alrededor de **263 aviones** aterrizan en AEP en ese rango horario.\n",
    "\n",
    "---\n",
    "\n",
    "**¿Cuánto es una milla náutica en kilómetros? ¿Y un nudo en kilómetros por hora?**\n",
    "\n",
    "Las equivalencias son:\n",
    "\n",
    "- 1 milla náutica (mn) = 1,852 km\n",
    "- 1 nudo (k) = 1,852 km/h\n",
    "\n",
    "---\n",
    "\n",
    "**A partir de la data anterior, ¿cuánto tardaría un avión en llegar desde las 100 mn hasta AEP? Y si la velocidad a más de 100 mn fuera 500 nudos, ¿cuánto tardaría en llegar desde Rosario a AEP? Estos órdenes de magnitud, ¿tienen sentido con lo que se puede consultar en Aerolíneas Argentinas?**\n",
    "\n",
    "##### Aproximación desde 100 mn a AEP\n",
    "   - Distancia: 100 mn = 185,2 km \n",
    "\n",
    "   Tomando la tabla de distancia a AEP tenemos:\n",
    "   1. 100 mn a 50 mn = 50 mn\n",
    "      - 50 * 1,852 = 92,6 km\n",
    "   2. 50 mn a 15 mn = 35 mn\n",
    "      - 35 * 1,852 = 64,82 km\n",
    "   3. 15 mn a 5 mn = 10 mn\n",
    "      - 10 * 1,852 = 18,52 km\n",
    "   4. 5 mn a 0 mn (aterrizar) = 5 mn\n",
    "      - 5 * 1,852 = 9,26 km\n",
    "\n",
    "   Calculando la velocidad promedio en cada rango tenemos:\n",
    "   1. (300 + 250) / 2 = 275 nudos\n",
    "      - 275 * 1,852 = 509,3 km/h\n",
    "   2. (250 + 200) / 2 = 225 nudos\n",
    "      - 225 * 1,852 = 416,7 km/h\n",
    "   3. (200 + 150) / 2 = 175 nudos\n",
    "      - 175 * 1,852 = 324,1 km/h\n",
    "   4. (150 + 120) / 2 = 135 nudos\n",
    "      - 135 * 1,852 = 250,02 km/h\n",
    "\n",
    "   Entonces, juntando distancia y velocidad tenemos:\n",
    "   1. t1 = 92,6 km / 509,3 km/h = 0,18 h\n",
    "      - 0,18 * 60 = 10,90 minutos\n",
    "   2. t2 = 64,82 km / 416,7 km/h = 0,15 h\n",
    "      - 0,15 * 60 = 9,33 minutos\n",
    "   3. t3 = 18,52 km / 324,1 km/h = 0,057 h\n",
    "      - 0,057 * 60 = 3,43 minutos\n",
    "   4. t4 = 9,26 km / 250,02 km/h = 0,037 h\n",
    "      - 0,037 * 60 = 2,2 minutos\n",
    "\n",
    "   Sumando los t de cada tramo tenemos:\n",
    "   Tiempo = t1 + t2 + t3 + t4 = 10,90 m + 9,33 m + 3,43 m + 2,2 m ≈ 26 minutos\n",
    "\n",
    "##### Trayecto Rosario – AEP\n",
    "   - Distancia aproximada: ≈ 293,6 km \n",
    "   - Velocidad: 500 nudos = 500 * 1,852 ≈ 926 km/h  \n",
    "   - Tiempo = 293,6 / 926 ≈ 0,32 h * 60 ≈ 19 minutos\n",
    "\n",
    "*Respuesta final:* El tiempo estimado es de **26 minutos** para la aproximación desde 100 mn y de **19 minutos** para el trayecto Rosario – AEP a 500 nudos. Estos órdenes de magnitud son consistentes con los tiempos de vuelo publicados por Aerolíneas Argentinas para recorridos cortos.  \n",
    "\n",
    "---\n",
    "\n",
    "**¿Cuál es la cantidad máxima de aterrizajes que podrían suceder en teoría en AEP por entre las 6am y la medianoche?**\n",
    "\n",
    "En ese rango horario hay 18 horas, que equivalen a 1080 minutos.\n",
    "\n",
    "Y sabiendo que no puede haber aterrizajes separados por menos de 4 minutos entre sí, tenemos:\n",
    "1080 / 4 = **270 aterrizajes máximo**"
   ]
  },
  {
   "cell_type": "markdown",
   "id": "3956fd65",
   "metadata": {},
   "source": [
    "#### **Parte 1 - Simulación de Monte Carlo**"
   ]
  },
  {
   "cell_type": "code",
   "execution_count": null,
   "id": "7e485742",
   "metadata": {},
   "outputs": [],
   "source": [
    "from analisis import MetricasSimulacion\n",
    "from graficos import (animar_con_estelas)\n",
    "from simulacion import simular_con_historia\n",
    "\n",
    "# Ejecutar simulación\n",
    "\n",
    "datos_mc = simular_con_historia(\n",
    "    lambda_por_min = 0.25,\n",
    "    minutos = 200,\n",
    "    seed = 42,\n",
    "    dia_ventoso = False,\n",
    "    metricas = MetricasSimulacion()\n",
    ")\n",
    "\n",
    "print(f\"Aviones finales registrados en la historia: {len(datos_mc['historia'])}\")"
=======
    "**COMPLETAR**"
>>>>>>> 03a9a819f7d7eb32952e8cb3ad6d1f389a71df8c
   ]
  },
  {
   "cell_type": "code",
   "execution_count": null,
   "id": "b57a0437",
   "metadata": {},
   "outputs": [],
   "source": [
    "from experimentos import correr_experimentos\n",
    "from analisis import (MetricasSimulacion, IC_globales, print_resumen)\n",
    "from graficos import (\n",
    "    plot_desvios_y_congestion,\n",
    "    animar_con_estelas,\n",
    "    plot_comparacion_tiempos)\n",
    "from simulacion import run_simulacion, simular_con_historia\n",
    "import numpy as np"
   ]
  },
  {
   "cell_type": "markdown",
   "id": "9f4824d7",
   "metadata": {},
   "source": [
    "#### **Simulación de Montecarlo**"
   ]
  },
  {
   "cell_type": "code",
   "execution_count": null,
   "id": "7e485742",
   "metadata": {},
   "outputs": [],
   "source": [
    "# --------------------------------------------------------\n",
    "# PARTE 1: SIMULACIÓN DE MONTE CARLO CON VISUALIZACIÓN\n",
    "# --------------------------------------------------------\n",
    "\n",
    "print(\"=== EJERCICIO 1: Simulación Monte Carlo ===\")\n",
    "print(\"Ejecutando simulación detallada con lambda = 0.1...\")\n",
    "\n",
    "datos_mc = simular_con_historia(\n",
    "    lambda_por_min = 0.1, \n",
    "    minutos = 200, \n",
    "    seed = 42, \n",
    "    dia_ventoso = False, \n",
    "    metricas = MetricasSimulacion()\n",
    ")\n",
    "\n",
    "print(f\"Aviones finales registrados: {len(datos_mc['historia'])}\")\n",
    "print(\"Generando visualizaciones...\")\n",
    "\n",
    "animar_con_estelas(datos_mc[\"historia\"], minutos=200, tail=20)\n",
    "\n",
    "print(\"=== FIN EJERCICIO 1 ===\\n\")"
   ]
  },
  {
   "cell_type": "markdown",
   "id": "f843e257",
   "metadata": {},
   "source": [
    "#### **Promedio de arribos**"
   ]
  },
  {
   "cell_type": "markdown",
   "id": "12273154",
   "metadata": {},
   "source": [
    "El modelo genera, en cada minuto, un avión con probabilidad λ. Para que el promedio de arrivos sea de un avión por hora debemos hacer:\n",
    "$$ λ = \\frac{1 \\text{ avión/hora}}{60 \\text{ min/hora}} = \\frac{1}{60} \\text{aviones/min} $$"
   ]
  },
  {
   "cell_type": "markdown",
   "id": "16556b85",
   "metadata": {},
   "source": [
<<<<<<< HEAD
    "#### **Parte 3 - Cinco aviones en una hora**"
   ]
  },
  {
   "cell_type": "code",
   "execution_count": null,
   "id": "82bc5034",
   "metadata": {},
   "outputs": [],
   "source": [
    "from main import estimar_prob_5\n",
    "\n",
    "# Ejecutar la estimación Monte Carlo con la función ya implementada\n",
    "p_hat, se, ic = estimar_prob_5(n_sim=200_000, seed=42)\n",
    "\n",
    "print(f\"Probabilidad estimada (Monte Carlo): {p_hat:.5f}\")\n",
    "print(f\"Error estándar: {se:.5f}\")\n",
    "print(f\"IC 95%: ({ic[0]:.5f}, {ic[1]:.5f})\")"
=======
    "#### **5 aviones en una hora**"
>>>>>>> 03a9a819f7d7eb32952e8cb3ad6d1f389a71df8c
   ]
  },
  {
   "cell_type": "markdown",
   "id": "bdfd7104",
   "metadata": {},
   "source": [
    "Para calcular la probabilidad de que 5 aviones lleguen en una hora con λ = 1/60 de manera analítica podemos usar la fórmula binomial. Tenemos 60 minutos y queremos la probabilidad de 5 éxitos \n",
    "$$P(N = 5) = \\binom{60}{5} \\cdot \\left(\\frac{1}{60}\\right)^5 \\cdot \\left(1 - \\frac{1}{60}\\right)^{55} ∼ 0.002786 $$"
   ]
  },
  {
   "cell_type": "code",
   "execution_count": null,
   "id": "99c17dfa",
   "metadata": {},
   "outputs": [],
   "source": [
    "# --------------------------------------------------------\n",
    "# PARTE 3: PROBABILIDAD DE 5 AVIONES EN 1 HORA\n",
    "# --------------------------------------------------------\n",
    "def estimar_prob_5(n_sim = 200_000, seed = 42):\n",
    "    np.random.seed(seed)\n",
    "    cuenta_5 = 0\n",
    "    \n",
    "    for i in range(n_sim):\n",
    "        # CORRE UNA SIMULACIÓN DE 60 MINUTOS CON λ = 1/60\n",
    "        aviones = run_simulacion(lambda_por_min = 1/60, minutos = 60, seed = seed + i)\n",
    "        # CUENTA SI HUBO EXACTAMENTE 5 AVIONES EN ESE PERIODO\n",
    "        if len(aviones) == 5:\n",
    "            cuenta_5 += 1\n",
    "    \n",
    "    # ESTIMACIÓN MONTE CARLO DE P(N=5)\n",
    "    p_hat = cuenta_5 / n_sim\n",
    "    # ERROR ESTÁNDAR DE LA PROPORCIÓN\n",
    "    se = np.sqrt(p_hat * (1 - p_hat) / n_sim)\n",
    "    # INTERVALO DE CONFIANZA 95%\n",
    "    ic = (p_hat - 1.96 * se, p_hat + 1.96 * se)\n",
    "    return p_hat, se, ic\n",
    "\n",
    "\n",
    "print(\"=== EJERCICIO 3: Probabilidad de 5 aviones en una hora ===\")\n",
    "p_hat, se, ic = estimar_prob_5(n_sim = 200_000, seed = 42)\n",
    "print(f\"p(5 en 1h) ≈ {p_hat:.5f}  |  SE={se:.5f}  |  IC95%=({ic[0]:.5f}, {ic[1]:.5f})\")\n",
    "print(\"=== FIN EJERCICIO 3 ===\\n\")"
   ]
  },
  {
   "cell_type": "markdown",
   "id": "d0f5f321",
   "metadata": {},
   "source": [
    "#### **Sistemas de Arribos con distintos λ**"
   ]
  },
  {
   "cell_type": "code",
   "execution_count": null,
   "id": "dc530477",
   "metadata": {},
   "outputs": [],
   "source": [
    "lambdas = [0.02, 0.1, 0.2, 0.5, 1]\n",
    "metricas_lambdas = {lam: MetricasSimulacion() for lam in lambdas}"
   ]
  },
  {
   "cell_type": "code",
   "execution_count": null,
   "id": "dcfcdad8",
   "metadata": {},
   "outputs": [],
   "source": [
    "# --------------------------------------------------------\n",
    "# PARTE 4: SIMULACIÓN CON DISTINTOS λ (SIN DÍA VENTOSO)\n",
    "# --------------------------------------------------------\n",
    "\n",
    "print(\"=== EJERCICIO 4: Congestión y atrasos con distintos lambdas ===\")\n",
    "\n",
    "# HAY QUE CAMBIAR N_REP A 2000, PERO PARA PROBAR TARDA MUCHO\n",
    "df = correr_experimentos(lambdas, n_rep = 150, metricas_lambda = metricas_lambdas, seed = 2025)\n",
    "print_resumen(metricas_lambdas)\n"
   ]
  },
  {
   "cell_type": "markdown",
   "id": "ea61e197",
   "metadata": {},
   "source": [
    "##### *Análisis de aviones de aterrizaron - su congestión promedio, atraso, error y frecuencia*"
   ]
  },
  {
   "cell_type": "code",
   "execution_count": null,
   "id": "69c5cc72",
   "metadata": {},
   "outputs": [],
   "source": [
    "\n",
    "#GRÁFICOS DE CONGESTIÓN DE SOLO ATERRIZADOS Y CANTIDAD DE AVIONES A MONTEVIDEO POR LAMBDA\n",
    "plot_desvios_y_congestion(metricas_lambdas,df)\n",
    "print(IC_globales(df))\n"
   ]
  },
  {
   "cell_type": "code",
   "execution_count": null,
   "id": "c6eb79a6",
   "metadata": {},
   "outputs": [],
   "source": [
    "from analisis import print_resumen_congestion\n",
    "from graficos import plot_congestion_por_lambda\n",
    "\n",
    "#GRÁFICOS DE FRECUENCIA DE LOS AVIONES Y POR TRAMO\n",
    "print_resumen_congestion(df)\n",
    "plot_congestion_por_lambda(df)\n"
   ]
  },
  {
   "cell_type": "markdown",
   "id": "9be6f741",
   "metadata": {},
   "source": [
    "##### *Análisis de aviones desviados a Montevideo - su congestión promedio, error y frecuencia*"
   ]
  },
  {
   "cell_type": "code",
   "execution_count": null,
   "id": "aea73a73",
   "metadata": {},
   "outputs": [],
   "source": [
    "#GRÁFICOS DE CONGESTIÓN DE SOLO LOS QUE VAN A MONTEVIDEO, FRECUENCIA Y PROMEDIO POR TRAMO\n",
    "from graficos import plot_congestion_montevideo\n",
    "plot_congestion_montevideo(df)"
   ]
  },
  {
   "cell_type": "code",
   "execution_count": null,
   "id": "8ad03a08",
   "metadata": {},
   "outputs": [],
   "source": [
    "\n",
    "#ATRASO CON Y SIN CONGESTIÓN\n",
    "plot_comparacion_tiempos(df)\n",
    "\n",
    "print(\"=== FIN EJERCICIO 4 ===\\n\") \n"
   ]
  },
  {
   "cell_type": "markdown",
   "id": "68d2836c",
   "metadata": {},
   "source": [
    "#### **Simulaciones con Viento**"
   ]
  },
  {
   "cell_type": "code",
   "execution_count": null,
   "id": "afe906b6",
   "metadata": {},
   "outputs": [],
   "source": [
    "# --------------------------------------------------------\n",
    "# PARTE 5: SIMULACIÓN CON DISTINTOS λ (CON DÍA VENTOSO)\n",
    "# --------------------------------------------------------\n",
    "\n",
    "print(\"=== EJERCICIO 5: Atrasos y desvíos con distintos λ CON día ventoso ===\")\n",
    "\n",
    "metricas_lambdas_ventoso = {lam: MetricasSimulacion() for lam in lambdas}\n",
    "\n",
    "# HAY QUE CAMBIAR N_REP A 2000, PERO PARA PROBAR TARDA MUCHO\n",
    "df_ventoso = correr_experimentos(lambdas, n_rep = 150, dia_ventoso = True, metricas_lambda = metricas_lambdas_ventoso, seed = 2025)\n",
    "\n",
    "print_resumen(metricas_lambdas_ventoso)\n"
   ]
  },
  {
   "cell_type": "code",
   "execution_count": null,
   "id": "284de70c",
   "metadata": {},
   "outputs": [],
   "source": [
    "from graficos import plot_analisis_completo, animar_con_desvios\n",
    "import matplotlib.pyplot as plt\n",
    "\n",
    "from IPython.display import HTML\n",
    "\n",
    "historia = df_ventoso[\"historia\"].iloc[0]\n",
    "\n",
    "anim =  animar_con_desvios(historia, minutos=300,tail = 30)\n",
    "HTML(anim.to_jshtml())\n",
    "# Crear todos los gráficos de análisis\n",
    "#plot_analisis_completo(df, df_ventoso)\n",
    "\n",
    "#plot_comparacion_tiempos(df_ventoso)<\n",
    "\n",
    "\n",
    "#anim = animar_con_desvios(df_ventoso[\"historia\"], minutos=200, tail=20)\n",
    "\n",
    "print(\"=== FIN EJERCICIO 5 ===\\n\")"
   ]
  },
  {
   "cell_type": "markdown",
   "id": "b029f1b0",
   "metadata": {},
   "source": [
    "#### **Simulaciones con tormenta**"
   ]
  },
  {
   "cell_type": "code",
   "execution_count": null,
   "id": "82ead6b4",
   "metadata": {},
   "outputs": [],
   "source": [
    "# --------------------------------------------------------\n",
    "# PARTE 6: SIMULACIÓN CON TORMENTA (CIERRE SORPRESIVO AEP)\n",
    "# --------------------------------------------------------\n",
    "\n",
    "print(\"=== EJERCICIO 6: Solo tormenta de 30 minutos ===\")\n",
    "\n",
    "metricas_lambdas_tormenta = {lam: MetricasSimulacion() for lam in lambdas}\n",
    "\n",
    "# HAY QUE CAMBIAR N_REP A 2000, PERO PARA PROBAR TARDA MUCHO\n",
    "df_tormenta = correr_experimentos(lambdas, n_rep = 150, metricas_lambda = metricas_lambdas_tormenta, hay_tormenta = True)\n",
    "print_resumen(metricas_lambdas_tormenta)\n",
    "\n",
    "\n"
   ]
  },
  {
   "cell_type": "code",
   "execution_count": null,
   "id": "d01e1f8e",
   "metadata": {},
   "outputs": [],
   "source": [
    "\n",
    "plot_comparacion_tiempos(df_tormenta)\n",
    "\n",
    "print(\"=== FIN EJERCICIO 6 ===\\n\")"
   ]
  },
  {
   "cell_type": "markdown",
   "id": "68705e4a",
   "metadata": {},
   "source": [
    "#### **Posibles mejoras**"
   ]
  },
  {
   "cell_type": "markdown",
   "id": "5eb67de5",
   "metadata": {},
   "source": [
    "**COMPLETAR**"
   ]
  },
  {
   "cell_type": "markdown",
   "id": "a3ce4a29",
   "metadata": {},
   "source": [
    "#### **BONUS**"
   ]
  },
  {
   "cell_type": "markdown",
   "id": "8315e727",
   "metadata": {},
   "source": [
    "**COMPLETAR**"
   ]
  }
 ],
 "metadata": {
  "kernelspec": {
   "display_name": "songskip",
   "language": "python",
   "name": "python3"
  },
  "language_info": {
   "codemirror_mode": {
    "name": "ipython",
    "version": 3
   },
   "file_extension": ".py",
   "mimetype": "text/x-python",
   "name": "python",
   "nbconvert_exporter": "python",
   "pygments_lexer": "ipython3",
   "version": "3.11.13"
  }
 },
 "nbformat": 4,
 "nbformat_minor": 5
}
