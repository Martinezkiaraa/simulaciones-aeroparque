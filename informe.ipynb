{
 "cells": [
  {
   "cell_type": "markdown",
   "id": "9942ea5b",
   "metadata": {},
   "source": [
    "2. El modelo genera, en cada minuto, un avión con probabilidad λ. Para que el promedio de arrivos sea de un avión por hora debemos hacer:\n",
    "λ = (1 avión x hora)/(60 min x hora) = 1/6"
   ]
  },
  {
   "cell_type": "markdown",
   "id": "ccd22806",
   "metadata": {},
   "source": [
    "3. Para calcular la probabilidad de que 5 aviones lleguen en una hora con λ = 1/60 de manera analítica podemos usar la fórmula binomial. Tenemos 60 minutos y queremo la probabilidad de 5 éxitos (p = 1/60):\n",
    "P(N = 5) = combinatoria (60 5) * (1/60)^5 * (1 - 1/60)^55 "
   ]
  },
  {
   "cell_type": "code",
   "execution_count": 1,
   "id": "6d1e595f",
   "metadata": {},
   "outputs": [
    {
     "name": "stdout",
     "output_type": "stream",
     "text": [
      "probabilidad de que 5 aviones lleguen en una hora con λ = 1/60 es p = 0.0027867532065616865\n"
     ]
    }
   ],
   "source": [
    "import math \n",
    "min, aviones = 60, 5\n",
    "combinatoria = math.comb(min, aviones)\n",
    "proba_5 = combinatoria * (1/60)**5 * (1 - 1/60)**55 \n",
    "print(f\"probabilidad de que 5 aviones lleguen en una hora con λ = 1/60 es p = {proba_5}\")"
   ]
  }
 ],
 "metadata": {
  "kernelspec": {
   "display_name": "Python 3",
   "language": "python",
   "name": "python3"
  },
  "language_info": {
   "codemirror_mode": {
    "name": "ipython",
    "version": 3
   },
   "file_extension": ".py",
   "mimetype": "text/x-python",
   "name": "python",
   "nbconvert_exporter": "python",
   "pygments_lexer": "ipython3",
   "version": "3.13.0"
  }
 },
 "nbformat": 4,
 "nbformat_minor": 5
}
