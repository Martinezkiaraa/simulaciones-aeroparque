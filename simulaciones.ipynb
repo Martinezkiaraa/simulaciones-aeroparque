{
 "cells": [
  {
   "cell_type": "code",
   "execution_count": null,
   "id": "dac883c9",
   "metadata": {
    "vscode": {
     "languageId": "plaintext"
    }
   },
   "outputs": [],
   "source": [
    "import math\n",
    "import random\n",
    "import matplotlib.pyplot as plt\n",
    "import pandas as pd\n",
    "\n",
    "# PARÁMETROS DE SIMULACIÓN\n"
   ]
  }
 ],
 "metadata": {
  "language_info": {
   "name": "python"
  }
 },
 "nbformat": 4,
 "nbformat_minor": 5
}
